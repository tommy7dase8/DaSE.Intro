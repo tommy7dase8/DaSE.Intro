{
 "cells": [
  {
   "cell_type": "markdown",
   "metadata": {},
   "source": [
    "0. 所有的题目结果中，给出SQL语句和执行结果。"
   ]
  },
  {
   "cell_type": "code",
   "execution_count": 1,
   "metadata": {},
   "outputs": [
    {
     "data": {
      "text/plain": [
       "0"
      ]
     },
     "execution_count": 1,
     "metadata": {},
     "output_type": "execute_result"
    }
   ],
   "source": [
    "import pymysql\n",
    "\n",
    "# 连接到MySQL服务器\n",
    "connection = pymysql.connect(\n",
    "    host=\"localhost\",\n",
    "    user=\"root\",\n",
    "    password=\"test\"\n",
    ")\n",
    "\n",
    "cursor = connection.cursor()\n",
    "cursor.execute(\"CREATE DATABASE IF NOT EXISTS test_database;\")\n",
    "cursor.execute(\"USE test_database;\")"
   ]
  },
  {
   "cell_type": "code",
   "execution_count": 2,
   "metadata": {},
   "outputs": [
    {
     "data": {
      "text/plain": [
       "0"
      ]
     },
     "execution_count": 2,
     "metadata": {},
     "output_type": "execute_result"
    }
   ],
   "source": [
    "cursor.execute(\"DROP TABLE IF EXISTS score;\")\n",
    "cursor.execute(\"DROP TABLE IF EXISTS team;\")\n",
    "cursor.execute(\"DROP TABLE IF EXISTS user;\")"
   ]
  },
  {
   "cell_type": "markdown",
   "metadata": {},
   "source": [
    "1. 在新数据库中新建一张 user 表,插入几条数据,属性包含:唯一标识(id),姓名(name)性别(sex).年龄(age).联系方式(phone)，数据如下：\n",
    "\n",
    "    ('John Doe', 'Male', 25, '123-456-7890')\n",
    "\n",
    "    ('Jane Smith', 'Female', 31, '987-654-3210')\n",
    "    \n",
    "    ('Bob Johnson', 'Male', 22, '555-123-4567')"
   ]
  },
  {
   "cell_type": "code",
   "execution_count": 3,
   "metadata": {},
   "outputs": [
    {
     "name": "stdout",
     "output_type": "stream",
     "text": [
      "(1, 'John Doe', 'Male', 25, '123-456-7890')\n",
      "(2, 'Jane Smith', 'Female', 31, '987-654-3210')\n",
      "(3, 'Bob Johnson', 'Male', 22, '555-123-4567')\n"
     ]
    }
   ],
   "source": [
    "# 创建 user 表\n",
    "create_table_query = \"\"\"\n",
    "CREATE TABLE IF NOT EXISTS user (\n",
    "    id INT AUTO_INCREMENT PRIMARY KEY,\n",
    "    username VARCHAR(66) NOT NULL,\n",
    "    sex ENUM('Male', 'Female') NOT NULL,\n",
    "    age INT NOT NULL,\n",
    "    phone VARCHAR(50) NOT NULL\n",
    ");\n",
    "\"\"\"\n",
    "cursor.execute(create_table_query)\n",
    "\n",
    "# 插入数据\n",
    "insert_data_query = \"\"\"\n",
    "INSERT INTO user VALUES\n",
    "    (NULL, 'John Doe', 'Male', 25, '123-456-7890'),\n",
    "    (NULL, 'Jane Smith', 'Female', 31, '987-654-3210'),\n",
    "    (NULL, 'Bob Johnson', 'Male', 22, '555-123-4567');\n",
    "\"\"\"\n",
    "cursor.execute(insert_data_query)\n",
    "\n",
    "\n",
    "select_query = \"SELECT * FROM user\"\n",
    "cursor.execute(select_query)\n",
    "results = cursor.fetchall()\n",
    "for row in results:\n",
    "    print(row)"
   ]
  },
  {
   "cell_type": "markdown",
   "metadata": {},
   "source": [
    "2. 写出 SQL语句,查询 user 表中所有年龄在 20-30 范围内的用户"
   ]
  },
  {
   "cell_type": "code",
   "execution_count": 4,
   "metadata": {},
   "outputs": [
    {
     "name": "stdout",
     "output_type": "stream",
     "text": [
      "(1, 'John Doe', 'Male', 25, '123-456-7890')\n",
      "(3, 'Bob Johnson', 'Male', 22, '555-123-4567')\n"
     ]
    }
   ],
   "source": [
    "query = \"SELECT * FROM user WHERE age >= 20 and age <= 30;\"\n",
    "cursor.execute(query)\n",
    "results = cursor.fetchall()\n",
    "\n",
    "# 显示查询结果\n",
    "for row in results:\n",
    "    print(row)"
   ]
  },
  {
   "cell_type": "markdown",
   "metadata": {},
   "source": [
    "3. 写出SQL语句，向user表中添加自己的个人信息，并添加几条和你姓名同姓的虚拟信息。"
   ]
  },
  {
   "cell_type": "code",
   "execution_count": 6,
   "metadata": {},
   "outputs": [
    {
     "name": "stdout",
     "output_type": "stream",
     "text": [
      "(1, 'John Doe', 'Male', 25, '123-456-7890')\n",
      "(2, 'Jane Smith', 'Female', 31, '987-654-3210')\n",
      "(3, 'Bob Johnson', 'Male', 22, '555-123-4567')\n",
      "(4, 'Xiahui Guo', 'Male', 20, '111-222-3333')\n",
      "(5, 'One Guo', 'Female', 18, '985-211-6666')\n",
      "(6, 'Two Guo', 'Male', 22, '222-888-8848')\n",
      "(7, 'Three Guo', 'Male', 29, '111-1112-0000')\n",
      "(8, 'Four Guo', 'Female', 100, '111-1111-1111')\n"
     ]
    }
   ],
   "source": [
    "query = \"\"\"\n",
    "INSERT INTO user VALUES\n",
    "    (NULL, 'Xiahui Guo', 'Male', 20, '111-222-3333'),\n",
    "    (NULL, 'One Guo', 'Female', 18, '985-211-6666'),\n",
    "    (NULL, 'Two Guo', 'Male', 22, '222-888-8848'),\n",
    "    (NULL, 'Three Guo', 'Male', 29, '111-1112-0000'),\n",
    "    (NULL, 'Four Guo', 'Female', 100, '111-1111-1111');\n",
    "\"\"\"\n",
    "cursor.execute(query)\n",
    "\n",
    "query = \"SELECT * FROM user\"\n",
    "cursor.execute(query)\n",
    "results = cursor.fetchall()\n",
    "for row in results:\n",
    "    print(row)"
   ]
  },
  {
   "cell_type": "markdown",
   "metadata": {},
   "source": [
    "4. 写出 SQL语句,查询 user 表中年龄在 20-30 范围内,名字包含“你的姓氏”的用户,并按照年龄从大到小排序输出"
   ]
  },
  {
   "cell_type": "code",
   "execution_count": 7,
   "metadata": {},
   "outputs": [
    {
     "name": "stdout",
     "output_type": "stream",
     "text": [
      "(7, 'Three Guo', 'Male', 29, '111-1112-0000')\n",
      "(6, 'Two Guo', 'Male', 22, '222-888-8848')\n",
      "(4, 'Xiahui Guo', 'Male', 20, '111-222-3333')\n"
     ]
    }
   ],
   "source": [
    "query = \"\"\"\n",
    "SELECT * FROM user\n",
    "WHERE age >= 20 AND age <= 30\n",
    "AND username LIKE '%Guo%'\n",
    "ORDER BY age DESC;\n",
    "\"\"\"\n",
    "cursor.execute(query)\n",
    "results = cursor.fetchall()\n",
    "\n",
    "# 显示查询结果\n",
    "for row in results:\n",
    "    print(row)"
   ]
  },
  {
   "cell_type": "markdown",
   "metadata": {},
   "source": [
    "5. 写出 SQL 语句,计算 user 表中所有用户的平均年龄"
   ]
  },
  {
   "cell_type": "code",
   "execution_count": 8,
   "metadata": {},
   "outputs": [
    {
     "name": "stdout",
     "output_type": "stream",
     "text": [
      "(Decimal('33.3750'),)\n"
     ]
    }
   ],
   "source": [
    "query = \"SELECT AVG(age) FROM user;\"\n",
    "cursor.execute(query)\n",
    "results = cursor.fetchall()\n",
    "\n",
    "# 显示查询结果\n",
    "for row in results:\n",
    "    print(row)"
   ]
  },
  {
   "cell_type": "markdown",
   "metadata": {},
   "source": [
    "6. 新建两张表team 表(id,teamName)和score 表(id,teamid,userid,score)。其中score 表中的 teamid 为指向 team表id 的外键，userid 为指向 user表id的外键"
   ]
  },
  {
   "cell_type": "code",
   "execution_count": 9,
   "metadata": {},
   "outputs": [
    {
     "data": {
      "text/plain": [
       "0"
      ]
     },
     "execution_count": 9,
     "metadata": {},
     "output_type": "execute_result"
    }
   ],
   "source": [
    "query = \"\"\"\n",
    "CREATE TABLE IF NOT EXISTS team(\n",
    "    id INT AUTO_INCREMENT PRIMARY KEY,\n",
    "    teamName VARCHAR(50) NOT NULL\n",
    ");\n",
    "\"\"\"\n",
    "cursor.execute(query)\n",
    "\n",
    "query = \"\"\"\n",
    "CREATE TABLE IF NOT EXISTS score(\n",
    "    id INT AUTO_INCREMENT PRIMARY KEY,\n",
    "    teamid INT NOT NULL,\n",
    "    userid INT NOT NULL,\n",
    "    score INT NOT NULL,\n",
    "    FOREIGN KEY (userid) REFERENCES user(id),\n",
    "    FOREIGN KEY (teamid) REFERENCES team(id)\n",
    ");\n",
    "\"\"\"\n",
    "cursor.execute(query)"
   ]
  },
  {
   "cell_type": "markdown",
   "metadata": {},
   "source": [
    "7. 在team表中和score表中插入合适的记录，写出 SQL语句,查询 teamName 为“ECNU”的队伍中，年龄小于 20 的用户们，结果不得为空。"
   ]
  },
  {
   "cell_type": "code",
   "execution_count": 10,
   "metadata": {},
   "outputs": [
    {
     "data": {
      "text/plain": [
       "8"
      ]
     },
     "execution_count": 10,
     "metadata": {},
     "output_type": "execute_result"
    }
   ],
   "source": [
    "query = \"\"\"\n",
    "INSERT INTO team VALUES \n",
    "    (NULL, 'Thu'),\n",
    "    (NULL, 'Ecnu'),\n",
    "    (NULL, 'Fudan');\n",
    "\"\"\"\n",
    "cursor.execute(query)\n",
    "\n",
    "query = \"\"\"\n",
    "INSERT INTO score VALUES \n",
    "    (NULL, 1, 1, 70),\n",
    "    (NULL, 1, 2, 80),\n",
    "    (NULL, 1, 3, 60),\n",
    "    (NULL, 2, 4, 100),\n",
    "    (NULL, 2, 5, 90),\n",
    "    (NULL, 2, 6, 90),\n",
    "    (NULL, 3, 7, 80),\n",
    "    (NULL, 3, 8, 50);\n",
    "\"\"\"\n",
    "cursor.execute(query)"
   ]
  },
  {
   "cell_type": "code",
   "execution_count": 11,
   "metadata": {},
   "outputs": [
    {
     "name": "stdout",
     "output_type": "stream",
     "text": [
      "('One Guo',)\n"
     ]
    }
   ],
   "source": [
    "query = \"\"\"\n",
    "SELECT username\n",
    "FROM user u\n",
    "JOIN score s ON u.id = s.userid\n",
    "JOIN team t ON s.teamid = t.id\n",
    "WHERE t.teamName = 'ECNU' AND u.age < 20;\n",
    "\"\"\"\n",
    "cursor.execute(query)\n",
    "results = cursor.fetchall()\n",
    "\n",
    "# 显示查询结果\n",
    "for row in results:\n",
    "    print(row)"
   ]
  },
  {
   "cell_type": "markdown",
   "metadata": {},
   "source": [
    "8. 写出 SQL 语句,计算 teamName为“ECNU”的总分(假设 score 存在 null值,nul值默认为 0 加入计算)。"
   ]
  },
  {
   "cell_type": "code",
   "execution_count": 12,
   "metadata": {},
   "outputs": [
    {
     "name": "stdout",
     "output_type": "stream",
     "text": [
      "('Ecnu', Decimal('280'))\n"
     ]
    }
   ],
   "source": [
    "query = \"\"\"\n",
    "SELECT t.teamName, SUM(COALESCE(s.score, 0)) AS totalScore\n",
    "FROM team t\n",
    "JOIN score s ON t.id = s.teamid\n",
    "WHERE t.teamName = 'ECNU';\n",
    "\"\"\"\n",
    "cursor.execute(query)\n",
    "results = cursor.fetchall()\n",
    "\n",
    "# 显示查询结果\n",
    "for row in results:\n",
    "    print(row)"
   ]
  },
  {
   "cell_type": "markdown",
   "metadata": {},
   "source": [
    "9. 写出SQL语句，删除user表中个人信息的记录。"
   ]
  },
  {
   "cell_type": "code",
   "execution_count": 13,
   "metadata": {},
   "outputs": [
    {
     "data": {
      "text/plain": [
       "0"
      ]
     },
     "execution_count": 13,
     "metadata": {},
     "output_type": "execute_result"
    }
   ],
   "source": [
    "cursor.execute(\"DROP TABLE IF EXISTS score;\")\n",
    "cursor.execute(\"DROP TABLE IF EXISTS team;\")\n",
    "cursor.execute(\"DROP TABLE IF EXISTS user;\")"
   ]
  },
  {
   "cell_type": "code",
   "execution_count": 14,
   "metadata": {},
   "outputs": [],
   "source": [
    "# 关闭连接\n",
    "cursor.close()\n",
    "connection.close()"
   ]
  }
 ],
 "metadata": {
  "kernelspec": {
   "display_name": "Python 3 (ipykernel)",
   "language": "python",
   "name": "python3"
  },
  "language_info": {
   "codemirror_mode": {
    "name": "ipython",
    "version": 3
   },
   "file_extension": ".py",
   "mimetype": "text/x-python",
   "name": "python",
   "nbconvert_exporter": "python",
   "pygments_lexer": "ipython3",
   "version": "3.10.9"
  }
 },
 "nbformat": 4,
 "nbformat_minor": 2
}
