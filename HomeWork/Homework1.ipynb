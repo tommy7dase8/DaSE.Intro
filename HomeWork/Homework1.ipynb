{
 "cells": [
  {
   "cell_type": "markdown",
   "metadata": {},
   "source": [
    "1. 编写Python程序，打印\"数据科学与工程导论\"，并使用 print(chr(0x2605)) 语句将这句话包围起来。"
   ]
  },
  {
   "cell_type": "code",
   "execution_count": 1,
   "metadata": {},
   "outputs": [
    {
     "name": "stdout",
     "output_type": "stream",
     "text": [
      "★★★★★★★★★★★\n",
      "★数据科学与工程导论★\n",
      "★★★★★★★★★★★"
     ]
    }
   ],
   "source": [
    "for i in range(11):\n",
    "    print(chr(0x2605),end='')\n",
    "print('')\n",
    "print(\"%s数据科学与工程导论%s\"%(chr(0x2605),chr(0x2605)))\n",
    "for i in range(11):\n",
    "    print(chr(0x2605),end='')"
   ]
  },
  {
   "cell_type": "markdown",
   "metadata": {},
   "source": [
    "2. 写一个 Python 程序，输入 x, y, z 这三个数，将这三个数从小到大使用 print 函数打印出来。"
   ]
  },
  {
   "cell_type": "code",
   "execution_count": 2,
   "metadata": {},
   "outputs": [
    {
     "name": "stdout",
     "output_type": "stream",
     "text": [
      "从小到大排序后的结果是:  [63.0, 87.0, 99.0]\n"
     ]
    }
   ],
   "source": [
    "x = float(input(\"请输入第一个数: \"))\n",
    "y = float(input(\"请输入第二个数: \"))\n",
    "z = float(input(\"请输入第三个数: \"))\n",
    "\n",
    "numbers = [x, y, z]\n",
    "numbers.sort()\n",
    "print(\"从小到大排序后的结果是: \", numbers)"
   ]
  },
  {
   "cell_type": "markdown",
   "metadata": {},
   "source": [
    "3. 写一个 Python 程序，有 w, x, y, z 四个数，将这四个数从大到小使用 print 函数打印出来。"
   ]
  },
  {
   "cell_type": "code",
   "execution_count": 3,
   "metadata": {},
   "outputs": [
    {
     "name": "stdout",
     "output_type": "stream",
     "text": [
      "从大到小排序后的结果是:  [100000.0, 908.0, 109.0, 82.0]\n"
     ]
    }
   ],
   "source": [
    "w = float(input(\"请输入第一个数: \"))\n",
    "x = float(input(\"请输入第二个数: \"))\n",
    "y = float(input(\"请输入第三个数: \"))\n",
    "z = float(input(\"请输入第四个数: \"))\n",
    "\n",
    "numbers = [w, x, y, z]\n",
    "numbers.sort(reverse=True)\n",
    "\n",
    "print(\"从大到小排序后的结果是: \", numbers)"
   ]
  },
  {
   "cell_type": "markdown",
   "metadata": {},
   "source": [
    "4. 写一个 Python 程序，输出 1-100 中的所有奇数。"
   ]
  },
  {
   "cell_type": "code",
   "execution_count": 4,
   "metadata": {},
   "outputs": [
    {
     "name": "stdout",
     "output_type": "stream",
     "text": [
      "1 3 5 7 9 11 13 15 17 19 21 23 25 27 29 31 33 35 37 39 41 43 45 47 49 51 53 55 57 59 61 63 65 67 69 71 73 75 77 79 81 83 85 87 89 91 93 95 97 99 "
     ]
    }
   ],
   "source": [
    "for i in range(1,101):\n",
    "    if i % 2 != 0:\n",
    "        print(i,end=' ')"
   ]
  },
  {
   "cell_type": "markdown",
   "metadata": {},
   "source": [
    "5. 写一个 Python 程序，用 for 循环，求解 1 到 100 的和。"
   ]
  },
  {
   "cell_type": "code",
   "execution_count": 5,
   "metadata": {},
   "outputs": [
    {
     "name": "stdout",
     "output_type": "stream",
     "text": [
      "5050\n"
     ]
    }
   ],
   "source": [
    "ans = 0\n",
    "for i in range(1, 101):\n",
    "    ans += i\n",
    "print(ans)"
   ]
  },
  {
   "cell_type": "markdown",
   "metadata": {},
   "source": [
    "6. 写一个 Python 程序，分别用 for 和 while 循环实现对一个给定序列的倒排序输出。例如，给定 L=[1,2,3,4,5]，输出为 [5,4,3,2,1]。"
   ]
  },
  {
   "cell_type": "code",
   "execution_count": 6,
   "metadata": {},
   "outputs": [
    {
     "name": "stdout",
     "output_type": "stream",
     "text": [
      "5 4 3 2 1 "
     ]
    }
   ],
   "source": [
    "def reverse_list_for(L):\n",
    "    for i in L[ : : -1]:\n",
    "        print( i, end=' ')\n",
    "L1 = input(\"请输入list(以空格分割):\").split(\" \")\n",
    "L2 = [ int(L1[i]) for i in range(len(L1))]\n",
    "\n",
    "reverse_list_for(L2)"
   ]
  },
  {
   "cell_type": "code",
   "execution_count": 7,
   "metadata": {},
   "outputs": [
    {
     "name": "stdout",
     "output_type": "stream",
     "text": [
      "[6, 5, 4, 3, 2, 1]\n"
     ]
    }
   ],
   "source": [
    "def reverse_list_while(L):\n",
    "    tmpi = len(L) - 1\n",
    "    ansL = []\n",
    "    while tmpi >= 0:\n",
    "        ansL.append(L[tmpi])\n",
    "        tmpi -= 1 \n",
    "\n",
    "    return ansL\n",
    "\n",
    "L1 = input(\"请输入list(以空格分割):\").split(\" \")\n",
    "L2 = [ int(L1[i]) for i in range(len(L1))]\n",
    "print(reverse_list_while(L2))"
   ]
  },
  {
   "cell_type": "markdown",
   "metadata": {},
   "source": [
    "7. 写一个 Python 程序，判断一个输入的字符串 S 是否包含由两个或两个以上连续出现的相同字符组成的字符串。例如，abccccda 中就包含 cccc 这个由 4 个连续字符组成的字符串。"
   ]
  },
  {
   "cell_type": "code",
   "execution_count": 8,
   "metadata": {},
   "outputs": [
    {
     "name": "stdout",
     "output_type": "stream",
     "text": [
      "Yes\n"
     ]
    }
   ],
   "source": [
    "def judge_same_chr(str_item):\n",
    "    for i in range(1,len(str_item)-1):\n",
    "        if str_item[i] == str_item[i-1] or str_item[i] == str_item[i+1]:\n",
    "            print(\"Yes\")\n",
    "            return\n",
    "    print(\"No\")\n",
    "str_item=input(\"请输入字符串:\")\n",
    "judge_same_chr(str_item)"
   ]
  },
  {
   "cell_type": "markdown",
   "metadata": {},
   "source": [
    "8. 写一个 Python 程序，输入一个字符串 S，去掉其中所有的空格后输出。例如，“DataScience and Engineering”，去掉空格后为“DataScienceandEngineering”。"
   ]
  },
  {
   "cell_type": "code",
   "execution_count": 9,
   "metadata": {},
   "outputs": [
    {
     "name": "stdout",
     "output_type": "stream",
     "text": [
      "DataScienceandEngineering\n"
     ]
    }
   ],
   "source": [
    "def remove_space(str_item):\n",
    "    str_list=list(str_item)\n",
    "    for i in range(len(str_list)):\n",
    "        if str_list[i] == ' ':\n",
    "            str_list[i] = ''\n",
    "    str_new = \"\".join(str_list)\n",
    "    print(str_new)\n",
    "str_item=input(\"请输入字符串:\")\n",
    "remove_space(str_item)"
   ]
  },
  {
   "cell_type": "markdown",
   "metadata": {},
   "source": [
    "9. 请设计一个求 3 次方根的算法（不允许直接调用求方根的函数），并给出对应的 Python 程序。\n",
    "采用牛顿迭代法求解，迭代过程数学公式表示为：\n",
    "$ x_{n+1}=x_n-\\frac{f(x_n)}{f^{\\prime}(x_n)}$"
   ]
  },
  {
   "cell_type": "code",
   "execution_count": 12,
   "metadata": {},
   "outputs": [
    {
     "name": "stdout",
     "output_type": "stream",
     "text": [
      "216 的三次方根是 6.0\n"
     ]
    }
   ],
   "source": [
    "def f(x):\n",
    "    ans = 0\n",
    "    if x != 0:\n",
    "        ans = x / 3.0\n",
    "\n",
    "    for _ in range(666):\n",
    "        tmp = ans - (ans**3 - x) / (3 * ans**2)\n",
    "        ans = tmp\n",
    "    return ans\n",
    "\n",
    "n = int(input(\"输一个正整数\"))\n",
    "print(f\"{n} 的三次方根是 {f(n)}\")"
   ]
  },
  {
   "cell_type": "markdown",
   "metadata": {},
   "source": [
    "10. 写一个 Python 程序，给定一个常数 n（n>0），求 n 的阶乘，即 n!=1×2×...×(n-1)×n。例如，4!=24，5!=120。"
   ]
  },
  {
   "cell_type": "code",
   "execution_count": 10,
   "metadata": {},
   "outputs": [
    {
     "name": "stdout",
     "output_type": "stream",
     "text": [
      "3628800\n"
     ]
    }
   ],
   "source": [
    "def factorial(digit):\n",
    "    if digit == 0:\n",
    "        print(1)\n",
    "        return\n",
    "    ans = 1\n",
    "    for i in range(1,digit+1):\n",
    "        ans *= i\n",
    "    print(ans)\n",
    "\n",
    "digit = int(input(\"请输入数字:\")) #我输入的是10\n",
    "factorial(digit)"
   ]
  },
  {
   "cell_type": "markdown",
   "metadata": {},
   "source": []
  }
 ],
 "metadata": {
  "kernelspec": {
   "display_name": "base",
   "language": "python",
   "name": "python3"
  },
  "language_info": {
   "codemirror_mode": {
    "name": "ipython",
    "version": 3
   },
   "file_extension": ".py",
   "mimetype": "text/x-python",
   "name": "python",
   "nbconvert_exporter": "python",
   "pygments_lexer": "ipython3",
   "version": "3.10.9"
  }
 },
 "nbformat": 4,
 "nbformat_minor": 2
}
