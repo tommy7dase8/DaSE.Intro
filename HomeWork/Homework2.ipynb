{
 "cells": [
  {
   "cell_type": "markdown",
   "metadata": {},
   "source": [
    "## 1. 编写 Python 程序，求两个正整数的最大公约数。"
   ]
  },
  {
   "cell_type": "code",
   "execution_count": 1,
   "metadata": {},
   "outputs": [
    {
     "name": "stdout",
     "output_type": "stream",
     "text": [
      "55 和 7 的最大公约数是: 1\n"
     ]
    }
   ],
   "source": [
    "def gcd(a, b):\n",
    "    while b != 0:\n",
    "        a, b = b, a % b\n",
    "    return a\n",
    "\n",
    "num1 = int(input(\"请输入第一个正整数: \"))\n",
    "num2 = int(input(\"请输入第二个正整数: \"))\n",
    "\n",
    "print(f\"{num1} 和 {num2} 的最大公约数是: {gcd(num1, num2)}\")"
   ]
  },
  {
   "cell_type": "markdown",
   "metadata": {},
   "source": [
    "## 2. 用if语句实现百分制转等级制（考试成绩，60分以下不合格，60—74分合格，75—89分为良好，90分以上为优秀）。"
   ]
  },
  {
   "cell_type": "code",
   "execution_count": 3,
   "metadata": {},
   "outputs": [
    {
     "name": "stdout",
     "output_type": "stream",
     "text": [
      "74分的成绩等级为: 合格\n"
     ]
    }
   ],
   "source": [
    "def grade_conversion(score):\n",
    "    if score < 60:\n",
    "        return \"不合格\"\n",
    "    elif 60 <= score <= 74:\n",
    "        return \"合格\"\n",
    "    elif 75 <= score <= 89:\n",
    "        return \"良好\"\n",
    "    elif score >= 90:\n",
    "        return \"优秀\"\n",
    "\n",
    "# 百分值成绩应该是整数\n",
    "score = int(input(\"请输入考试成绩: \")) \n",
    "print(f\"{score}分的成绩等级为: {grade_conversion(score)}\")"
   ]
  },
  {
   "cell_type": "markdown",
   "metadata": {},
   "source": [
    "## 3. 编写Python程序，完成十进制小数到二进制小数的转换\n",
    "相关数学原理：https://cloud.tencent.com/developer/article/2155741"
   ]
  },
  {
   "cell_type": "code",
   "execution_count": 8,
   "metadata": {},
   "outputs": [
    {
     "name": "stdout",
     "output_type": "stream",
     "text": [
      "16.875000转化为二进制表达为:10000.111\n"
     ]
    }
   ],
   "source": [
    "def float_decimal_to_binary( num ):\n",
    "    \n",
    "    #整数部分转换\n",
    "    int_part = int(num)\n",
    "    int_list = []\n",
    "    while(int_part):\n",
    "        x = int_part % 2\n",
    "        int_list.append(str(x))\n",
    "        int_part //= 2\n",
    "    int_list.reverse()\n",
    "    int_binary = \"\".join(int_list)\n",
    "    #小数部分转换\n",
    "    float_part = num - int(num)\n",
    "    count_temp = 0\n",
    "    float_list = []\n",
    "    while(float_part):\n",
    "        float_part *= 2\n",
    "        x = str(int(float_part))\n",
    "        float_list.append(x)\n",
    "        float_part = float_part - int(float_part)\n",
    "        count_temp += 1\n",
    "        if count_temp > 10:\n",
    "            break\n",
    "    float_binary = \"\".join(float_list)\n",
    "    \n",
    "    print(\"%f转化为二进制表达为:%s\"%(num,int_binary+'.'+float_binary))\n",
    "    \n",
    "num = float(input(\"请输入要转化的小数(十进制):\"))\n",
    "\n",
    "float_decimal_to_binary(num)"
   ]
  },
  {
   "cell_type": "markdown",
   "metadata": {},
   "source": [
    "## 4. 编写Python程序，产生10-20的随机浮点数"
   ]
  },
  {
   "cell_type": "code",
   "execution_count": 9,
   "metadata": {},
   "outputs": [
    {
     "name": "stdout",
     "output_type": "stream",
     "text": [
      "生成的随机数为:14.972818\n"
     ]
    }
   ],
   "source": [
    "import random\n",
    "def random_float():\n",
    "    return random.uniform(10,20)\n",
    "\n",
    "print(\"生成的随机数为:%f\"%(random_float()))"
   ]
  },
  {
   "cell_type": "markdown",
   "metadata": {},
   "source": [
    "## 5. 编写一个Python函数，判断一个整数是否是回文数。回文数是指正序（从左向右）和倒序（从右向左）读都是一样的数。"
   ]
  },
  {
   "cell_type": "code",
   "execution_count": 11,
   "metadata": {},
   "outputs": [
    {
     "name": "stdout",
     "output_type": "stream",
     "text": [
      "123321 是回文数\n"
     ]
    }
   ],
   "source": [
    "def is_palindrome(num):\n",
    "    str_num = str(num)\n",
    "    return str_num == str_num[::-1]\n",
    "\n",
    "number = int(input(\"请输入一个整数: \"))\n",
    "if is_palindrome(number):\n",
    "    print(f\"{number} 是回文数\")\n",
    "else:\n",
    "    print(f\"{number} 不是回文数\")"
   ]
  },
  {
   "cell_type": "markdown",
   "metadata": {},
   "source": [
    "## 6.编写一个Python函数，返回一个包含斐波那契数列的前N个数的列表。斐波那契数列是一个数列，其中每个数是前两个数的和，数列以0和1开始。"
   ]
  },
  {
   "cell_type": "code",
   "execution_count": 10,
   "metadata": {},
   "outputs": [
    {
     "name": "stdout",
     "output_type": "stream",
     "text": [
      "斐波那契数列的前 7 个数是: [0, 1, 1, 2, 3, 5, 8]\n"
     ]
    }
   ],
   "source": [
    "def fibonacci(n):\n",
    "    if n <= 0:\n",
    "        return []\n",
    "    elif n == 1:\n",
    "        return [0]\n",
    "    elif n == 2:\n",
    "        return [0, 1]\n",
    "    \n",
    "    fib_list = [0, 1]\n",
    "    for _ in range(2, n):\n",
    "        fib_list.append(fib_list[-1] + fib_list[-2])\n",
    "    \n",
    "    return fib_list\n",
    "\n",
    "N = int(input(\"请输入斐波那契数列的长度: \"))\n",
    "print(f\"斐波那契数列的前 {N} 个数是: {fibonacci(N)}\")"
   ]
  },
  {
   "cell_type": "markdown",
   "metadata": {},
   "source": [
    "## 7.编写一个Python函数，接受一个整数数组作为输入，返回数组中第二大的数。如果数组中只有一个元素或数组为空，则返回-1。"
   ]
  },
  {
   "cell_type": "code",
   "execution_count": 12,
   "metadata": {},
   "outputs": [
    {
     "name": "stdout",
     "output_type": "stream",
     "text": [
      "数组中第二大的数是: 9\n"
     ]
    }
   ],
   "source": [
    "def second_largest(arr):\n",
    "    if len(arr) < 2:\n",
    "        return -1\n",
    "    \n",
    "    unique_elements = list(set(arr))\n",
    "    if len(unique_elements) < 2:\n",
    "        return -1\n",
    "    \n",
    "    unique_elements.sort()\n",
    "    return unique_elements[-2]\n",
    "\n",
    "# 我输入的数据 3 7 5 8 888 9 -1\n",
    "array = [int(x) for x in input(\"请输入整数数组（用空格分隔）: \").split()]\n",
    "result = second_largest(array)\n",
    "if result == -1:\n",
    "    print(\"数组中没有第二大的数\")\n",
    "else:\n",
    "    print(f\"数组中第二大的数是: {result}\")"
   ]
  },
  {
   "cell_type": "markdown",
   "metadata": {},
   "source": [
    "## 8. 编写一个函数，使其能够用正则表达式的方式简单验证身份证号是否合法。\n",
    "\n",
    "validate_id_card函数使用正则表达式模式来匹配身份证号。模式通过以下方式验证身份证号的格式：\n",
    "\n",
    "- 第一位必须是1-9的数字，不以0开头。\n",
    "- 接下来5位是地区码。（开头6位都是地区码）\n",
    "- 紧接着6位是出生年份和月份。\n",
    "- 接下来2位是出生日。\n",
    "- 然后是3位顺序码（通常是随机数字）。\n",
    "- 最后一位可以是数字或大写字母X。"
   ]
  },
  {
   "cell_type": "code",
   "execution_count": 7,
   "metadata": {},
   "outputs": [
    {
     "name": "stdout",
     "output_type": "stream",
     "text": [
      "身份证号362322200708310651非法!\n"
     ]
    }
   ],
   "source": [
    "import re\n",
    "\n",
    "def validate_id_card(id_card):\n",
    "    # 定义身份证号码的正则表达式模式\n",
    "    pattern = r'^[1-9]\\d{5}(18|19|20)\\d{2}(0[1-9]|1[0-2])(0[1-9]|[12]\\d|3[01])\\d{3}[\\dXx]$'\n",
    "\n",
    "    # 使用正则表达式匹配身份证号码\n",
    "    if re.match(pattern, id_card):\n",
    "        if len(id_card) == 18:\n",
    "            # 验证校验位\n",
    "            factors = [7, 9, 10, 5, 8, 4, 2, 1, 6, 3, 7, 9, 10, 5, 8, 4, 2]\n",
    "            checksum = 0\n",
    "            for i in range(17):\n",
    "                checksum += int(id_card[i]) * factors[i]\n",
    "            remainder = checksum % 11\n",
    "            check_digit = '10X98765432'[remainder]\n",
    "            if id_card[-1].upper() == check_digit:\n",
    "                return True\n",
    "        elif len(id_card) == 15:\n",
    "            return True  # 15位身份证不校验校验位\n",
    "    return False\n",
    "\n",
    "\n",
    "id_card = input(\"请输入身份证号码：\")\n",
    "print(f\"身份证号{id_card}\",end=\"\")\n",
    "\n",
    "if validate_id_card(id_card):\n",
    "    print(\"合法!\")\n",
    "else:\n",
    "    print(\"非法!\")\n"
   ]
  },
  {
   "cell_type": "markdown",
   "metadata": {},
   "source": [
    "\n",
    "1. `^`：表示匹配字符串的开头，确保正则表达式从字符串的开头开始匹配。\n",
    "\n",
    "2. `[1-9]`：表示第一位是数字，但不包括0。这是因为身份证号的第一位通常不是0。\n",
    "\n",
    "3. `\\d{5}`：表示接下来的5位是数字（0-9），共计6位，这部分用来表示地区编码。\n",
    "\n",
    "4. `(19|20)`：这是一个分组，用于匹配年份的前两位。身份证号通常使用19或20作为年份的前两位。\n",
    "\n",
    "5. `\\d{2}`：表示匹配年份的后两位，共计2位。\n",
    "\n",
    "6. `(0[1-9]|1[0-2])`：这是一个分组，用于匹配月份。月份的范围是01到12。这一部分可以匹配01到09月以及10到12月。\n",
    "\n",
    "7. `(0[1-9]|[1-2]\\d|3[0-1])`：这是一个分组，用于匹配日期。它可以匹配01到09日，10到29日，以及30到31日。\n",
    "\n",
    "8. `\\d{3}`：表示匹配身份证号中的顺序码，通常是3位数字。\n",
    "\n",
    "9. `(\\d|X|x)`：这是最后一部分，用于匹配身份证号的校验码。它可以是数字（0-9）或字母X（可以是大写或小写）。\n",
    "\n",
    "10. `$`：表示匹配字符串的结尾，确保正则表达式匹配到字符串的末尾。\n"
   ]
  },
  {
   "cell_type": "markdown",
   "metadata": {},
   "source": [
    "以下是一些常见的正则表达式模式：\n",
    "\n",
    "1. **普通字符：** 普通字符（例如字母、数字、标点符号等）表示它们自身。在示例中，`\"apple\"` 就是一个普通字符。\n",
    "\n",
    "2. **特殊字符：** 正则表达式中有一些特殊字符，如 `.`、`*`、`+`、`?` 等，它们具有特殊的含义。例如，`\".\"` 表示匹配任何字符，`\"*\"` 表示匹配前一个字符的零个或多个重复，`\"+\"` 表示匹配前一个字符的一个或多个重复，`\"?\"` 表示匹配前一个字符的零个或一个重复。这些特殊字符需要进行转义，如 `\\.`、`\\*`、`\\+`、`\\?` 来匹配它们自身。\n",
    "\n",
    "3. **字符类：** 使用 `[...]` 表示一个字符类，可以匹配括号内的任何一个字符。例如，`[abc]` 匹配字符 'a'、'b' 或 'c' 中的任何一个。\n",
    "\n",
    "4. **范围字符类：** 使用 `[a-z]` 表示匹配小写字母 'a' 到 'z' 中的任何一个字符。类似地，`[0-9]` 表示匹配数字 0 到 9 中的任何一个字符。\n",
    "\n",
    "5. **反向字符类：** 使用 `[^...]` 表示一个反向字符类，可以匹配不在括号内的任何字符。例如，`[^0-9]` 匹配任何非数字字符。\n",
    "\n",
    "6. **预定义字符类：** 正则表达式还提供了一些预定义的字符类，如 `\\d` 表示任何数字字符，`\\w` 表示任何字母、数字或下划线字符，`\\s` 表示任何空白字符。相应的大写形式 `\\D`、`\\W`、`\\S` 表示它们的补集。\n",
    "\n",
    "7. **边界匹配：** `^` 表示匹配字符串的开头，`$` 表示匹配字符串的结尾。例如，`\"^apple\"` 匹配以 \"apple\" 开头的字符串。\n",
    "\n",
    "8. **重复：** 使用 `{m}` 表示前一个模式必须重复 m 次，使用 `{m, n}` 表示前一个模式必须重复至少 m 次，至多 n 次。例如，`\"a{2,4}\"` 匹配 \"aa\"、\"aaa\" 或 \"aaaa\"。\n",
    "\n",
    "9. **逻辑操作：** 正则表达式支持逻辑操作，如 `|` 表示或操作。例如，`\"apple|banana\"` 匹配 \"apple\" 或 \"banana\"。\n",
    "\n",
    "10. **分组：** 使用 `()` 创建分组，可以对模式进行分组和捕获。例如，`\"(apple|banana)\"` 匹配 \"apple\" 或 \"banana\"，并且可以通过捕获组来访问匹配的内容。\n",
    "\n",
    "在示例中，`pattern` 的形式是一个普通字符串 `\"apple\"`，它将匹配目标字符串的开头，只有当目标字符串以 \"apple\" 开头时才会找到匹配。"
   ]
  }
 ],
 "metadata": {
  "kernelspec": {
   "display_name": "Python 3",
   "language": "python",
   "name": "python3"
  },
  "language_info": {
   "codemirror_mode": {
    "name": "ipython",
    "version": 3
   },
   "file_extension": ".py",
   "mimetype": "text/x-python",
   "name": "python",
   "nbconvert_exporter": "python",
   "pygments_lexer": "ipython3",
   "version": "3.10.9"
  }
 },
 "nbformat": 4,
 "nbformat_minor": 2
}
