{
 "cells": [
  {
   "cell_type": "markdown",
   "metadata": {},
   "source": [
    "1.编写 Python程序,判断输入a是否为质数"
   ]
  },
  {
   "cell_type": "code",
   "execution_count": 2,
   "metadata": {},
   "outputs": [
    {
     "name": "stdout",
     "output_type": "stream",
     "text": [
      "a primer\n",
      "输入整数:33\n",
      "not a primer\n"
     ]
    }
   ],
   "source": [
    "def is_primer(num):\n",
    "    if num == 2:\n",
    "        print(\"a primer\")\n",
    "        return\n",
    "    for i in range(2,int(num**0.5)+2):\n",
    "        if num % i == 0:\n",
    "            print(\"not a primer\")\n",
    "            return\n",
    "print(\"a primer\")\n",
    "num = int(input(\"输入整数:\"))\n",
    "is_primer(num)"
   ]
  },
  {
   "cell_type": "markdown",
   "metadata": {},
   "source": [
    "2.用Python实现插入排序该算法，不允许直接调用插入排序函数，需要手动实现其逻辑过程。"
   ]
  },
  {
   "cell_type": "code",
   "execution_count": 3,
   "metadata": {},
   "outputs": [
    {
     "name": "stdout",
     "output_type": "stream",
     "text": [
      "Sorted array: [5, 6, 11, 12, 13]\n"
     ]
    }
   ],
   "source": [
    "def insertion_sort(arr):\n",
    "    # 从第二个元素开始，因为第一个元素默认已排序\n",
    "    for i in range(1, len(arr)):\n",
    "        key = arr[i]\n",
    "        j = i - 1\n",
    "        \n",
    "        while j >= 0 and arr[j] > key:\n",
    "            arr[j + 1] = arr[j]\n",
    "            j -= 1\n",
    "        arr[j + 1] = key\n",
    "\n",
    "    return arr\n",
    "\n",
    "# 测试\n",
    "arr = [12, 11, 13, 5, 6]\n",
    "sorted_arr = insertion_sort(arr)\n",
    "print(\"Sorted array:\", sorted_arr)"
   ]
  },
  {
   "cell_type": "markdown",
   "metadata": {},
   "source": [
    "3.用Python实现选择排序该算法，不允许直接调用选择排序函数，需要手动实现其逻辑过程。"
   ]
  },
  {
   "cell_type": "code",
   "execution_count": 4,
   "metadata": {},
   "outputs": [
    {
     "name": "stdout",
     "output_type": "stream",
     "text": [
      "Sorted array: [11, 12, 22, 25, 64]\n"
     ]
    }
   ],
   "source": [
    "def selection_sort(arr):\n",
    "    for i in range(len(arr)):\n",
    "        min_index = i\n",
    "        \n",
    "        # 查找数组中剩余元素的最小值\n",
    "        for j in range(i + 1, len(arr)):\n",
    "            if arr[j] < arr[min_index]:\n",
    "                min_index = j\n",
    "        \n",
    "        # 将找到的最小值和当前元素交换\n",
    "        arr[i], arr[min_index] = arr[min_index], arr[i]\n",
    "    \n",
    "    return arr\n",
    "\n",
    "arr = [64, 25, 12, 22, 11]\n",
    "sorted_arr = selection_sort(arr)\n",
    "print(\"Sorted array:\", sorted_arr)"
   ]
  },
  {
   "cell_type": "markdown",
   "metadata": {},
   "source": [
    "4.用Python实现快速排序该算法，不允许直接调用快速排序函数，需要手动实现其逻辑过程。"
   ]
  },
  {
   "cell_type": "code",
   "execution_count": 5,
   "metadata": {},
   "outputs": [
    {
     "name": "stdout",
     "output_type": "stream",
     "text": [
      "Sorted array: [1, 1, 5, 7, 8, 9, 10]\n"
     ]
    }
   ],
   "source": [
    "def quick_sort(arr):\n",
    "    if len(arr) <= 1:\n",
    "        return arr\n",
    "    \n",
    "    pivot = arr[0]\n",
    "    \n",
    "    # 划分数组，分成小于基准值和大于等于基准值的两部分\n",
    "    left = [x for x in arr[1:] if x < pivot]\n",
    "    right = [x for x in arr[1:] if x >= pivot]\n",
    "    \n",
    "    # 递归排序左半部分和右半部分，并合并\n",
    "    return quick_sort(left) + [pivot] + quick_sort(right)\n",
    "\n",
    "arr = [1, 10, 7, 8, 9, 1, 5]\n",
    "sorted_arr = quick_sort(arr)\n",
    "print(\"Sorted array:\", sorted_arr)"
   ]
  },
  {
   "cell_type": "markdown",
   "metadata": {},
   "source": [
    "5.使用 Python 随机生成三组长度递增的随机数列，长度分别为100、1000、10000，对生成的随机数组使用不同的排序算法，例如选择排序和归并排序，至少三种排序方法。对这些数列的数据排序，并分析不同排序算法在不同长度数列下的运行效果，例如运行时间等指标。（可以使用排序函数）"
   ]
  },
  {
   "cell_type": "code",
   "execution_count": 6,
   "metadata": {},
   "outputs": [
    {
     "name": "stdout",
     "output_type": "stream",
     "text": [
      "Array Length: 100\n",
      "Selection Sort Time: 0.000973 seconds\n",
      "Merge Sort Time: 0.000000 seconds\n",
      "Quick Sort Time: 0.000000 seconds\n",
      "--------------------------------------------------\n",
      "Array Length: 1000\n",
      "Selection Sort Time: 0.054685 seconds\n",
      "Merge Sort Time: 0.004884 seconds\n",
      "Quick Sort Time: 0.000975 seconds\n",
      "--------------------------------------------------\n",
      "Array Length: 10000\n",
      "Selection Sort Time: 4.982640 seconds\n",
      "Merge Sort Time: 0.049804 seconds\n",
      "Quick Sort Time: 0.021482 seconds\n",
      "--------------------------------------------------\n"
     ]
    }
   ],
   "source": [
    "import numpy as np\n",
    "import time\n",
    "\n",
    "array_100 = np.random.randint(0, 10000, size=100)\n",
    "array_1000 = np.random.randint(0, 10000, size=1000)\n",
    "array_10000 = np.random.randint(0, 10000, size=10000)\n",
    "\n",
    "# 定义一个计时器装饰器，用于计算函数执行时间\n",
    "def timer(func):\n",
    "    def wrapper(arr):\n",
    "        start_time = time.time()\n",
    "        result = func(arr)\n",
    "        end_time = time.time()\n",
    "        return result, end_time - start_time\n",
    "    return wrapper\n",
    "\n",
    "@timer\n",
    "def selection_sort(arr):\n",
    "    arr = arr.copy()  # 复制数组以防止修改原数组\n",
    "    for i in range(len(arr)):\n",
    "        min_index = i\n",
    "        for j in range(i + 1, len(arr)):\n",
    "            if arr[j] < arr[min_index]:\n",
    "                min_index = j\n",
    "        arr[i], arr[min_index] = arr[min_index], arr[i]\n",
    "    return arr\n",
    "\n",
    "@timer\n",
    "def merge_sort(arr):\n",
    "    if len(arr) <= 1:\n",
    "        return arr.copy()\n",
    "    \n",
    "    def merge(left, right):\n",
    "        result = []\n",
    "        i = j = 0\n",
    "        while i < len(left) and j < len(right):\n",
    "            if left[i] <= right[j]:\n",
    "                result.append(left[i])\n",
    "                i += 1\n",
    "            else:\n",
    "                result.append(right[j])\n",
    "                j += 1\n",
    "        result.extend(left[i:])\n",
    "        result.extend(right[j:])\n",
    "        return result\n",
    "    \n",
    "    mid = len(arr) // 2\n",
    "    left = merge_sort(arr[:mid])[0]\n",
    "    right = merge_sort(arr[mid:])[0]\n",
    "    return merge(left, right)\n",
    "\n",
    "@timer\n",
    "def quick_sort(arr):\n",
    "    if len(arr) <= 1:\n",
    "        return arr.copy()\n",
    "    pivot = arr[0]\n",
    "    left = [x for x in arr[1:] if x < pivot]\n",
    "    right = [x for x in arr[1:] if x >= pivot]\n",
    "    return quick_sort(left)[0] + [pivot] + quick_sort(right)[0]\n",
    "\n",
    "results = []\n",
    "\n",
    "for arr, length in [(array_100, 100), (array_1000, 1000), (array_10000, 10000)]:\n",
    "    _, time_selection = selection_sort(arr)\n",
    "    _, time_merge = merge_sort(arr)\n",
    "    _, time_quick = quick_sort(arr)\n",
    "    results.append({\n",
    "        \"Array Length\": length,\n",
    "        \"Selection Sort Time (s)\": time_selection,\n",
    "        \"Merge Sort Time (s)\": time_merge,\n",
    "        \"Quick Sort Time (s)\": time_quick\n",
    "    })\n",
    "\n",
    "for result in results:\n",
    "    print(f\"Array Length: {result['Array Length']}\")\n",
    "    print(f\"Selection Sort Time: {result['Selection Sort Time (s)']:.6f} seconds\")\n",
    "    print(f\"Merge Sort Time: {result['Merge Sort Time (s)']:.6f} seconds\")\n",
    "    print(f\"Quick Sort Time: {result['Quick Sort Time (s)']:.6f} seconds\")\n",
    "    print(\"-\" * 50)"
   ]
  },
  {
   "cell_type": "markdown",
   "metadata": {},
   "source": [
    "6.使用python代码获取当前系统时间"
   ]
  },
  {
   "cell_type": "code",
   "execution_count": 7,
   "metadata": {},
   "outputs": [
    {
     "name": "stdout",
     "output_type": "stream",
     "text": [
      "2024-10-16 16:04:01.711569\n"
     ]
    }
   ],
   "source": [
    "import datetime\n",
    "print(datetime.datetime.now())"
   ]
  },
  {
   "cell_type": "markdown",
   "metadata": {},
   "source": [
    "7.Homework/data文件夹下的stuGrade.csv文件中包含5位同学的学号、语文成绩、数学成绩和英语成绩，请先用记事本打开该文件，查看文件内容，然后编写Python程序，读取该文件，并计算出各科的平均成绩（保留2位小数）。"
   ]
  },
  {
   "cell_type": "code",
   "execution_count": 8,
   "metadata": {},
   "outputs": [
    {
     "name": "stdout",
     "output_type": "stream",
     "text": [
      "语文平均成绩: 82.6\n",
      "数学平均成绩: 81.0\n",
      "英语平均成绩: 81.8\n"
     ]
    }
   ],
   "source": [
    "import pandas as pd\n",
    "\n",
    "df = pd.read_csv('data/stuGrade.csv')\n",
    "\n",
    "average_chinese = round(df['chinese'].mean(), 2)\n",
    "average_math = round(df['math'].mean(), 2)\n",
    "average_english = round(df['english'].mean(), 2)\n",
    "\n",
    "print(f\"语文平均成绩: {average_chinese}\")\n",
    "print(f\"数学平均成绩: {average_math}\")\n",
    "print(f\"英语平均成绩: {average_english}\")"
   ]
  },
  {
   "cell_type": "markdown",
   "metadata": {},
   "source": [
    "8.请在第7题的代码继续编写Python程序，将以下内容写入my.txt文件中，一并上传到github中。\n",
    "\n",
    "    第1行：你的学号和姓名\n",
    "\n",
    "    第2行：3门课程的平均成绩（任意课程），保留2位小数，以英文逗号间隔\n",
    "\n",
    "    第3行：系统当前时间，格式例如2020-01-01 12:00:00\n",
    "\n",
    "    第4行：两秒后的系统当前时间（利用sleep()方法）"
   ]
  },
  {
   "cell_type": "code",
   "execution_count": 13,
   "metadata": {},
   "outputs": [
    {
     "name": "stdout",
     "output_type": "stream",
     "text": [
      "10211900416 郭夏辉\n",
      "82.6,81.0,81.8\n",
      "2024-10-16 16:20:08\n",
      "2024-10-16 16:20:10\n"
     ]
    }
   ],
   "source": [
    "import time\n",
    "from datetime import datetime\n",
    "\n",
    "student_id = \"10211900416\"\n",
    "student_name = \"郭夏辉\"\n",
    "\n",
    "# 获取当前时间\n",
    "current_time = datetime.now().strftime('%Y-%m-%d %H:%M:%S')\n",
    "time.sleep(2)\n",
    "\n",
    "time1 = datetime.now().strftime('%Y-%m-%d %H:%M:%S')\n",
    "\n",
    "content = [\n",
    "    f\"{student_id} {student_name}\",\n",
    "    f\"{average_chinese},{average_math},{average_english}\",\n",
    "    current_time,\n",
    "    time1\n",
    "]\n",
    "\n",
    "with open('data/my.txt', 'w',encoding='utf-8') as file:\n",
    "    file.write(\"\\n\".join(content))\n",
    "\n",
    "with open('data/my.txt', 'r', encoding='utf-8') as file:\n",
    "    print(file.read())"
   ]
  }
 ],
 "metadata": {
  "kernelspec": {
   "display_name": "Python 3 (ipykernel)",
   "language": "python",
   "name": "python3"
  },
  "language_info": {
   "codemirror_mode": {
    "name": "ipython",
    "version": 3
   },
   "file_extension": ".py",
   "mimetype": "text/x-python",
   "name": "python",
   "nbconvert_exporter": "python",
   "pygments_lexer": "ipython3",
   "version": "3.10.9"
  }
 },
 "nbformat": 4,
 "nbformat_minor": 2
}
